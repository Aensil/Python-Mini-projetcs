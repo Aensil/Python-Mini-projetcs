{
  "nbformat": 4,
  "nbformat_minor": 0,
  "metadata": {
    "colab": {
      "provenance": []
    },
    "kernelspec": {
      "name": "python3",
      "display_name": "Python 3"
    },
    "language_info": {
      "name": "python"
    }
  },
  "cells": [
    {
      "cell_type": "code",
      "execution_count": 1,
      "metadata": {
        "colab": {
          "base_uri": "https://localhost:8080/"
        },
        "id": "l4A-G1eERL8D",
        "outputId": "4d55d4d6-1441-4f8b-dbfc-ba860b7e4278"
      },
      "outputs": [
        {
          "output_type": "stream",
          "name": "stdout",
          "text": [
            "INSERT INTO Computador (id_silla, espaldar, color, material)\n",
            "13\n",
            "11\n",
            "17\n",
            "18\n",
            "7\n",
            "19\n",
            "13\n",
            "14\n",
            "3\n",
            "12\n",
            "13\n",
            "13\n",
            "15\n",
            "10\n",
            "16\n",
            "8\n",
            "3\n",
            "2\n",
            "10\n",
            "12\n",
            "14\n",
            "6\n",
            "15\n",
            "9\n",
            "14\n",
            "7\n",
            "14\n",
            "17\n",
            "15\n",
            "14\n",
            "11\n",
            "10\n",
            "8\n",
            "20\n",
            "7\n",
            "7\n",
            "6\n",
            "10\n",
            "2\n",
            "10\n",
            "17\n",
            "11\n",
            "16\n",
            "16\n",
            "8\n",
            "10\n",
            "13\n",
            "16\n",
            "11\n",
            "1\n",
            "6\n",
            "13\n",
            "16\n",
            "13\n",
            "4\n",
            "10\n",
            "10\n",
            "18\n",
            "14\n",
            "1\n",
            "3\n",
            "14\n",
            "7\n",
            "14\n",
            "13\n",
            "3\n",
            "9\n",
            "3\n",
            "20\n",
            "15\n",
            "1\n",
            "4\n",
            "5\n",
            "6\n",
            "19\n",
            "5\n",
            "11\n",
            "8\n",
            "7\n",
            "12\n",
            "2\n",
            "6\n",
            "3\n",
            "8\n",
            "20\n",
            "11\n",
            "13\n",
            "11\n",
            "1\n",
            "9\n",
            "17\n",
            "16\n",
            "4\n",
            "16\n",
            "6\n",
            "20\n",
            "6\n",
            "19\n",
            "15\n",
            "3\n"
          ]
        }
      ],
      "source": [
        "import random\n",
        "\n",
        "A = [123450, 123451, 123452, 123453, 123454, 123455, 123456, 123457, 123458, 123459]\n",
        "materiales = ['madera', 'metal', 'plastico', 'Resina']\n",
        "n=1\n",
        "\n",
        "print('INSERT INTO Computador (id_silla, espaldar, color, material)')\n",
        "for i in range(100):\n",
        "  patas = random.randint(0, 9)\n",
        "  x = random.randint(10, 50)\n",
        "  y = random.randint(10, 50)\n",
        "  z = random.randint(10, 50)\n",
        "  D = random.randint(0, 3)\n",
        "  espaldar = random.randint(0, 1)\n",
        "  num = random.randint(1, 20)\n",
        "  print(num)\n",
        "\n",
        "  #if i == 0:\n",
        "    #print(f'VALUES ({n}, {espaldar}, \\'{A[patas]}\\', \\'{materiales[D]}\\'),')\n",
        "  #else:\n",
        "    #print(f'({n}, {espaldar}, \\'{A[patas]}\\', \\'{materiales[D]}\\'),')\n",
        "  n = n+1\n"
      ]
    },
    {
      "cell_type": "code",
      "source": [
        "if 'a' < 'b':\n",
        "  print('Hi ')\n",
        "\n",
        "print('u' < 'e')"
      ],
      "metadata": {
        "colab": {
          "base_uri": "https://localhost:8080/"
        },
        "id": "xUfJgqHP81a-",
        "outputId": "37d43d13-a20e-479c-a145-4fcc8b55c63b"
      },
      "execution_count": 2,
      "outputs": [
        {
          "output_type": "stream",
          "name": "stdout",
          "text": [
            "Hi \n",
            "False\n"
          ]
        }
      ]
    },
    {
      "cell_type": "code",
      "source": [
        "!pip install ignorant"
      ],
      "metadata": {
        "colab": {
          "base_uri": "https://localhost:8080/",
          "height": 812
        },
        "id": "7MFV-Y_ABxld",
        "outputId": "faf8844f-e655-432d-fcb3-96a419cf2b6b"
      },
      "execution_count": 3,
      "outputs": [
        {
          "output_type": "stream",
          "name": "stdout",
          "text": [
            "Collecting ignorant\n",
            "  Downloading ignorant-1.2-py3-none-any.whl (26 kB)\n",
            "Collecting argparse (from ignorant)\n",
            "  Downloading argparse-1.4.0-py2.py3-none-any.whl (23 kB)\n",
            "Collecting bs4 (from ignorant)\n",
            "  Downloading bs4-0.0.1.tar.gz (1.1 kB)\n",
            "  Preparing metadata (setup.py) ... \u001b[?25l\u001b[?25hdone\n",
            "Collecting httpx (from ignorant)\n",
            "  Downloading httpx-0.25.0-py3-none-any.whl (75 kB)\n",
            "\u001b[2K     \u001b[90m━━━━━━━━━━━━━━━━━━━━━━━━━━━━━━━━━━━━━━━━\u001b[0m \u001b[32m75.7/75.7 kB\u001b[0m \u001b[31m3.0 MB/s\u001b[0m eta \u001b[36m0:00:00\u001b[0m\n",
            "\u001b[?25hRequirement already satisfied: termcolor in /usr/local/lib/python3.10/dist-packages (from ignorant) (2.3.0)\n",
            "Requirement already satisfied: tqdm in /usr/local/lib/python3.10/dist-packages (from ignorant) (4.66.1)\n",
            "Collecting trio (from ignorant)\n",
            "  Downloading trio-0.22.2-py3-none-any.whl (400 kB)\n",
            "\u001b[2K     \u001b[90m━━━━━━━━━━━━━━━━━━━━━━━━━━━━━━━━━━━━━━━\u001b[0m \u001b[32m400.2/400.2 kB\u001b[0m \u001b[31m5.4 MB/s\u001b[0m eta \u001b[36m0:00:00\u001b[0m\n",
            "\u001b[?25hRequirement already satisfied: beautifulsoup4 in /usr/local/lib/python3.10/dist-packages (from bs4->ignorant) (4.11.2)\n",
            "Requirement already satisfied: certifi in /usr/local/lib/python3.10/dist-packages (from httpx->ignorant) (2023.7.22)\n",
            "Collecting httpcore<0.19.0,>=0.18.0 (from httpx->ignorant)\n",
            "  Downloading httpcore-0.18.0-py3-none-any.whl (76 kB)\n",
            "\u001b[2K     \u001b[90m━━━━━━━━━━━━━━━━━━━━━━━━━━━━━━━━━━━━━━━━\u001b[0m \u001b[32m76.0/76.0 kB\u001b[0m \u001b[31m3.9 MB/s\u001b[0m eta \u001b[36m0:00:00\u001b[0m\n",
            "\u001b[?25hRequirement already satisfied: idna in /usr/local/lib/python3.10/dist-packages (from httpx->ignorant) (3.4)\n",
            "Requirement already satisfied: sniffio in /usr/local/lib/python3.10/dist-packages (from httpx->ignorant) (1.3.0)\n",
            "Requirement already satisfied: attrs>=20.1.0 in /usr/local/lib/python3.10/dist-packages (from trio->ignorant) (23.1.0)\n",
            "Requirement already satisfied: sortedcontainers in /usr/local/lib/python3.10/dist-packages (from trio->ignorant) (2.4.0)\n",
            "Collecting outcome (from trio->ignorant)\n",
            "  Downloading outcome-1.2.0-py2.py3-none-any.whl (9.7 kB)\n",
            "Requirement already satisfied: exceptiongroup>=1.0.0rc9 in /usr/local/lib/python3.10/dist-packages (from trio->ignorant) (1.1.3)\n",
            "Requirement already satisfied: anyio<5.0,>=3.0 in /usr/local/lib/python3.10/dist-packages (from httpcore<0.19.0,>=0.18.0->httpx->ignorant) (3.7.1)\n",
            "Collecting h11<0.15,>=0.13 (from httpcore<0.19.0,>=0.18.0->httpx->ignorant)\n",
            "  Downloading h11-0.14.0-py3-none-any.whl (58 kB)\n",
            "\u001b[2K     \u001b[90m━━━━━━━━━━━━━━━━━━━━━━━━━━━━━━━━━━━━━━━━\u001b[0m \u001b[32m58.3/58.3 kB\u001b[0m \u001b[31m6.8 MB/s\u001b[0m eta \u001b[36m0:00:00\u001b[0m\n",
            "\u001b[?25hRequirement already satisfied: soupsieve>1.2 in /usr/local/lib/python3.10/dist-packages (from beautifulsoup4->bs4->ignorant) (2.5)\n",
            "Building wheels for collected packages: bs4\n",
            "  Building wheel for bs4 (setup.py) ... \u001b[?25l\u001b[?25hdone\n",
            "  Created wheel for bs4: filename=bs4-0.0.1-py3-none-any.whl size=1256 sha256=aab047e602834505cda944e9865c864523927671b1b0117a9b16f590448f4a99\n",
            "  Stored in directory: /root/.cache/pip/wheels/25/42/45/b773edc52acb16cd2db4cf1a0b47117e2f69bb4eb300ed0e70\n",
            "Successfully built bs4\n",
            "Installing collected packages: argparse, outcome, h11, trio, httpcore, bs4, httpx, ignorant\n",
            "Successfully installed argparse-1.4.0 bs4-0.0.1 h11-0.14.0 httpcore-0.18.0 httpx-0.25.0 ignorant-1.2 outcome-1.2.0 trio-0.22.2\n"
          ]
        },
        {
          "output_type": "display_data",
          "data": {
            "application/vnd.colab-display-data+json": {
              "pip_warning": {
                "packages": [
                  "argparse"
                ]
              }
            }
          },
          "metadata": {}
        }
      ]
    },
    {
      "cell_type": "code",
      "source": [
        "import trio\n",
        "import httpx\n",
        "\n",
        "from ignorant.modules.shopping.amazon import amazon\n",
        "\n",
        "\n",
        "async def main():\n",
        "    phone=\"3102569107\"\n",
        "    country_code=\"57\"\n",
        "    client = httpx.AsyncClient()\n",
        "    out = []\n",
        "\n",
        "    await amazon(phone, country_code, client, out)\n",
        "\n",
        "    print(out)\n",
        "    await client.aclose()\n",
        "\n",
        "trio.run(main)"
      ],
      "metadata": {
        "colab": {
          "base_uri": "https://localhost:8080/"
        },
        "id": "Wo0iTzPxBcMS",
        "outputId": "1f7f134f-66f2-414d-9d3f-156f74708cd9"
      },
      "execution_count": 4,
      "outputs": [
        {
          "output_type": "stream",
          "name": "stderr",
          "text": [
            "/usr/local/lib/python3.10/dist-packages/trio/_core/_multierror.py:412: RuntimeWarning: IPython detected, but you already have a custom exception handler installed. I'll skip installing Trio's custom handler, but this means exception groups will not show full tracebacks.\n",
            "  warnings.warn(\n"
          ]
        },
        {
          "output_type": "stream",
          "name": "stdout",
          "text": [
            "[{'name': 'amazon', 'domain': 'amazon.com', 'method': 'login', 'frequent_rate_limit': False, 'rateLimit': False, 'exists': False}]\n"
          ]
        }
      ]
    },
    {
      "cell_type": "code",
      "source": [
        "!ignorant 57 3106749364"
      ],
      "metadata": {
        "colab": {
          "base_uri": "https://localhost:8080/"
        },
        "id": "FcdS_vd1CZ9k",
        "outputId": "03498f6c-c170-4c8c-8a26-de34673a9d5b"
      },
      "execution_count": 5,
      "outputs": [
        {
          "output_type": "stream",
          "name": "stdout",
          "text": [
            "Twitter : @palenath\n",
            "Github : https://github.com/megadose/ignorant\n",
            "For BTC Donations : 1FHDM49QfZX6pJmhjLE5tB2K6CaTLMZpXZ\n",
            "100% 3/3 [00:00<00:00,  6.28it/s]\u001b[H\u001b[J\n",
            "********************\n",
            "   +57 3106749364\n",
            "********************\n",
            "\u001b[35m[-] amazon.com\u001b[0m\n",
            "\u001b[32m[+] instagram.com\u001b[0m\n",
            "\u001b[31m[x] snapchat.com\u001b[0m\n",
            "\n",
            "\u001b[32m[+] Phone number used\u001b[0m,\u001b[35m [-] Phone number not used\u001b[0m,\u001b[31m [x] Rate limit\u001b[0m\n",
            "3 websites checked in 0.67 seconds\n",
            "Twitter : @palenath\n",
            "Github : https://github.com/megadose/ignorant\n",
            "For BTC Donations : 1FHDM49QfZX6pJmhjLE5tB2K6CaTLMZpXZ\n",
            "100% 3/3 [00:00<00:00,  5.88it/s]\n"
          ]
        }
      ]
    },
    {
      "cell_type": "code",
      "source": [
        "!pip install numspy"
      ],
      "metadata": {
        "colab": {
          "base_uri": "https://localhost:8080/"
        },
        "id": "JYFxU7qbEMxp",
        "outputId": "4fa2341b-dc60-4251-d511-a53c6b1343e8"
      },
      "execution_count": 6,
      "outputs": [
        {
          "output_type": "stream",
          "name": "stdout",
          "text": [
            "Collecting numspy\n",
            "  Downloading numspy-1.0-py3-none-any.whl (3.8 kB)\n",
            "Requirement already satisfied: beautifulsoup4 in /usr/local/lib/python3.10/dist-packages (from numspy) (4.11.2)\n",
            "Requirement already satisfied: bs4 in /usr/local/lib/python3.10/dist-packages (from numspy) (0.0.1)\n",
            "Requirement already satisfied: requests in /usr/local/lib/python3.10/dist-packages (from numspy) (2.31.0)\n",
            "Collecting huepy (from numspy)\n",
            "  Downloading huepy-1.2.1.tar.gz (15 kB)\n",
            "  Preparing metadata (setup.py) ... \u001b[?25l\u001b[?25hdone\n",
            "Requirement already satisfied: soupsieve>1.2 in /usr/local/lib/python3.10/dist-packages (from beautifulsoup4->numspy) (2.5)\n",
            "Requirement already satisfied: charset-normalizer<4,>=2 in /usr/local/lib/python3.10/dist-packages (from requests->numspy) (3.2.0)\n",
            "Requirement already satisfied: idna<4,>=2.5 in /usr/local/lib/python3.10/dist-packages (from requests->numspy) (3.4)\n",
            "Requirement already satisfied: urllib3<3,>=1.21.1 in /usr/local/lib/python3.10/dist-packages (from requests->numspy) (2.0.4)\n",
            "Requirement already satisfied: certifi>=2017.4.17 in /usr/local/lib/python3.10/dist-packages (from requests->numspy) (2023.7.22)\n",
            "Building wheels for collected packages: huepy\n",
            "  Building wheel for huepy (setup.py) ... \u001b[?25l\u001b[?25hdone\n",
            "  Created wheel for huepy: filename=huepy-1.2.1-py3-none-any.whl size=26985 sha256=cbc9fddcb6b1d480cb35b1ae7dcaf455d1414f98b4ff1fa504895d0b610c6e6a\n",
            "  Stored in directory: /root/.cache/pip/wheels/6c/b3/80/bb3bc1a2d6d3ebbad79b4959f0da042ee6aa7f39b386a74465\n",
            "Successfully built huepy\n",
            "Installing collected packages: huepy, numspy\n",
            "Successfully installed huepy-1.2.1 numspy-1.0\n"
          ]
        }
      ]
    },
    {
      "cell_type": "code",
      "source": [
        "from numspy import Way2sms\n",
        "Mobile_Number = 3106749364\n",
        "w2s = Way2sms()\n",
        "w2s.details(Mobile_Number)"
      ],
      "metadata": {
        "colab": {
          "base_uri": "https://localhost:8080/",
          "height": 339
        },
        "id": "SFFL5m5iE_U-",
        "outputId": "8d51777f-37c3-4dad-fd49-6ca8a00adf2a"
      },
      "execution_count": 7,
      "outputs": [
        {
          "output_type": "error",
          "ename": "TypeError",
          "evalue": "ignored",
          "traceback": [
            "\u001b[0;31m---------------------------------------------------------------------------\u001b[0m",
            "\u001b[0;31mTypeError\u001b[0m                                 Traceback (most recent call last)",
            "\u001b[0;32m<ipython-input-7-b5cef42a8ab4>\u001b[0m in \u001b[0;36m<cell line: 4>\u001b[0;34m()\u001b[0m\n\u001b[1;32m      2\u001b[0m \u001b[0mMobile_Number\u001b[0m \u001b[0;34m=\u001b[0m \u001b[0;36m3106749364\u001b[0m\u001b[0;34m\u001b[0m\u001b[0;34m\u001b[0m\u001b[0m\n\u001b[1;32m      3\u001b[0m \u001b[0mw2s\u001b[0m \u001b[0;34m=\u001b[0m \u001b[0mWay2sms\u001b[0m\u001b[0;34m(\u001b[0m\u001b[0;34m)\u001b[0m\u001b[0;34m\u001b[0m\u001b[0;34m\u001b[0m\u001b[0m\n\u001b[0;32m----> 4\u001b[0;31m \u001b[0mw2s\u001b[0m\u001b[0;34m.\u001b[0m\u001b[0mdetails\u001b[0m\u001b[0;34m(\u001b[0m\u001b[0mMobile_Number\u001b[0m\u001b[0;34m)\u001b[0m\u001b[0;34m\u001b[0m\u001b[0;34m\u001b[0m\u001b[0m\n\u001b[0m",
            "\u001b[0;32m/usr/local/lib/python3.10/dist-packages/numspy/__init__.py\u001b[0m in \u001b[0;36mdetails\u001b[0;34m(self, mobile)\u001b[0m\n\u001b[1;32m    194\u001b[0m \u001b[0;34m\u001b[0m\u001b[0m\n\u001b[1;32m    195\u001b[0m     \u001b[0;32mdef\u001b[0m \u001b[0mdetails\u001b[0m\u001b[0;34m(\u001b[0m\u001b[0mself\u001b[0m\u001b[0;34m,\u001b[0m \u001b[0mmobile\u001b[0m\u001b[0;34m)\u001b[0m\u001b[0;34m:\u001b[0m\u001b[0;34m\u001b[0m\u001b[0;34m\u001b[0m\u001b[0m\n\u001b[0;32m--> 196\u001b[0;31m         \u001b[0m_main_url\u001b[0m \u001b[0;34m=\u001b[0m \u001b[0;34m'/'\u001b[0m\u001b[0;34m.\u001b[0m\u001b[0mjoin\u001b[0m\u001b[0;34m(\u001b[0m\u001b[0;34m[\u001b[0m\u001b[0mself\u001b[0m\u001b[0;34m.\u001b[0m\u001b[0mbase_url\u001b[0m\u001b[0;34m,\u001b[0m \u001b[0;34m'LocateMobile/'\u001b[0m\u001b[0;34m+\u001b[0m\u001b[0mmobile\u001b[0m\u001b[0;34m]\u001b[0m\u001b[0;34m)\u001b[0m\u001b[0;34m\u001b[0m\u001b[0;34m\u001b[0m\u001b[0m\n\u001b[0m\u001b[1;32m    197\u001b[0m         \u001b[0mhtml\u001b[0m \u001b[0;34m=\u001b[0m \u001b[0murllib\u001b[0m\u001b[0;34m.\u001b[0m\u001b[0mrequest\u001b[0m\u001b[0;34m.\u001b[0m\u001b[0murlopen\u001b[0m\u001b[0;34m(\u001b[0m\u001b[0m_main_url\u001b[0m\u001b[0;34m)\u001b[0m\u001b[0;34m\u001b[0m\u001b[0;34m\u001b[0m\u001b[0m\n\u001b[1;32m    198\u001b[0m         \u001b[0msoup\u001b[0m \u001b[0;34m=\u001b[0m \u001b[0mBeautifulSoup\u001b[0m\u001b[0;34m(\u001b[0m\u001b[0mhtml\u001b[0m\u001b[0;34m.\u001b[0m\u001b[0mread\u001b[0m\u001b[0;34m(\u001b[0m\u001b[0;34m)\u001b[0m\u001b[0;34m,\u001b[0m \u001b[0;34m'html.parser'\u001b[0m\u001b[0;34m)\u001b[0m\u001b[0;34m\u001b[0m\u001b[0;34m\u001b[0m\u001b[0m\n",
            "\u001b[0;31mTypeError\u001b[0m: can only concatenate str (not \"int\") to str"
          ]
        }
      ]
    }
  ]
}